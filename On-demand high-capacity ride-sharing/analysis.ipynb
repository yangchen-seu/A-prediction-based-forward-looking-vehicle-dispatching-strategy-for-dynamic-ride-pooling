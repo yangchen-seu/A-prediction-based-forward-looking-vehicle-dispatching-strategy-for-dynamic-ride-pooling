{
 "cells": [
  {
   "cell_type": "code",
   "execution_count": 1,
   "metadata": {},
   "outputs": [],
   "source": [
    "import Seeker\n",
    "import pickle\n",
    "\n",
    "with open('output/2017-05-01/history_order.pkl', \"rb\") as tf:\n",
    "    his_order = pickle.load(tf)\n",
    "\n",
    "with open('output/2017-05-01/system_metric.pkl', \"rb\") as tf:\n",
    "    system_metric = pickle.load(tf)"
   ]
  },
  {
   "cell_type": "code",
   "execution_count": 6,
   "metadata": {},
   "outputs": [
    {
     "name": "stdout",
     "output_type": "stream",
     "text": [
      "17592367522487\n",
      "17592367521255\n",
      "17592367479989\n",
      "17592367486477\n",
      "17592367581362\n",
      "17592367579068\n",
      "17592367487005\n",
      "17592367524147\n",
      "17592367502497\n",
      "17592367581262\n",
      "17592367584456\n",
      "17592367524498\n",
      "17592367511137\n",
      "17592367529631\n",
      "17592367480265\n",
      "17592367678207\n",
      "17592367498017\n",
      "17592367677219\n",
      "17592367527215\n",
      "17592367682874\n",
      "17592367682680\n",
      "17592367533335\n",
      "17592367686214\n",
      "17592367522821\n",
      "17592367689271\n",
      "17592367530856\n",
      "17592367684908\n",
      "17592367523037\n",
      "17592367690879\n",
      "17592367593452\n",
      "17592367523213\n",
      "17592367686503\n",
      "17592367691403\n",
      "17592367593830\n",
      "17592367539832\n",
      "17592367536989\n",
      "17592367543293\n",
      "17592367541963\n",
      "17592367692918\n",
      "17592367745231\n",
      "17592367521877\n",
      "17592367533761\n",
      "17592367693735\n",
      "17592367597668\n",
      "17592367539420\n",
      "17592367592040\n",
      "17592367696998\n",
      "17592367694266\n",
      "17592367697236\n",
      "17592367546917\n",
      "17592367747964\n",
      "17592367542472\n",
      "17592367605284\n",
      "17592367749736\n",
      "17592367554105\n",
      "17592367549961\n",
      "17592367559297\n",
      "17592367551465\n",
      "17592367700735\n",
      "17592367703099\n",
      "17592367704090\n",
      "17592367612126\n",
      "17592367561397\n",
      "12.222222222222221\n",
      "0.0\n",
      "nan\n",
      "110.47559646936259\n",
      "nan\n",
      "541943.6462771388\n",
      "0.0\n",
      "1442.5265579085983\n",
      "0.10327868852459017\n",
      "0.0\n"
     ]
    }
   ],
   "source": [
    "for key in his_order.keys():\n",
    "    print(his_order[key].id)\n",
    "\n"
   ]
  },
  {
   "cell_type": "code",
   "execution_count": 7,
   "metadata": {},
   "outputs": [
    {
     "name": "stdout",
     "output_type": "stream",
     "text": [
      "key waitingTime value 12.222222222222221\n",
      "key traveltime value 0.0\n",
      "key detour_distance value nan\n",
      "key pickup_time value 110.47559646936259\n",
      "key shared_distance value nan\n",
      "key total_ride_distance value 541943.6462771388\n",
      "key saved_ride_distance value 0.0\n",
      "key platform_income value 1442.5265579085983\n",
      "key response_rate value 0.10327868852459017\n",
      "key carpool_rate value 0.0\n"
     ]
    }
   ],
   "source": [
    "for key in system_metric.keys():\n",
    "    print('key',key,'value',system_metric[key])"
   ]
  }
 ],
 "metadata": {
  "kernelspec": {
   "display_name": "base",
   "language": "python",
   "name": "python3"
  },
  "language_info": {
   "codemirror_mode": {
    "name": "ipython",
    "version": 3
   },
   "file_extension": ".py",
   "mimetype": "text/x-python",
   "name": "python",
   "nbconvert_exporter": "python",
   "pygments_lexer": "ipython3",
   "version": "3.9.16"
  },
  "orig_nbformat": 4
 },
 "nbformat": 4,
 "nbformat_minor": 2
}
