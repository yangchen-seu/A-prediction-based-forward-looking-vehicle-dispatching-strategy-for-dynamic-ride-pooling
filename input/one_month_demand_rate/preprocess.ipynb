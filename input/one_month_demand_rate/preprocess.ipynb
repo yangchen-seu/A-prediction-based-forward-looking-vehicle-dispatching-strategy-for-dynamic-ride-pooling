{
 "cells": [
  {
   "cell_type": "code",
   "execution_count": 4,
   "metadata": {},
   "outputs": [],
   "source": [
    "import pandas as pd\n",
    "link = pd.read_csv('links.csv')\n",
    "orders = pd.read_csv('orders.csv')\n",
    "node = pd.read_csv('node.csv')\n",
    "OD = pd.read_csv('OD.csv')\n",
    "predict_result = pd.read_csv('predict_result.csv')\n",
    "predict_result = predict_result.merge(OD, left_on = 'OD_id', right_on = 'OD_id')\n",
    "predict_result['destination_id'] = predict_result['destination_id'].astype(int)\n",
    "predict_result['origin_id'] = predict_result['origin_id'].astype(int)"
   ]
  },
  {
   "cell_type": "code",
   "execution_count": 8,
   "metadata": {},
   "outputs": [
    {
     "name": "stdout",
     "output_type": "stream",
     "text": [
      "Index(['Unnamed: 0_x', 'dwv_order_make_haikou_1.order_id',\n",
      "       'dwv_order_make_haikou_1.product_id', 'dwv_order_make_haikou_1.city_id',\n",
      "       'dwv_order_make_haikou_1.district', 'dwv_order_make_haikou_1.county',\n",
      "       'dwv_order_make_haikou_1.type', 'dwv_order_make_haikou_1.combo_type',\n",
      "       'dwv_order_make_haikou_1.traffic_type',\n",
      "       'dwv_order_make_haikou_1.passenger_count',\n",
      "       'dwv_order_make_haikou_1.driver_product_id',\n",
      "       'dwv_order_make_haikou_1.start_dest_distance',\n",
      "       'dwv_order_make_haikou_1.arrive_time',\n",
      "       'dwv_order_make_haikou_1.departure_time',\n",
      "       'dwv_order_make_haikou_1.pre_total_fee',\n",
      "       'dwv_order_make_haikou_1.normal_time',\n",
      "       'dwv_order_make_haikou_1.bubble_trace_id',\n",
      "       'dwv_order_make_haikou_1.product_1level',\n",
      "       'dwv_order_make_haikou_1.dest_lng', 'dwv_order_make_haikou_1.dest_lat',\n",
      "       'dwv_order_make_haikou_1.starting_lng',\n",
      "       'dwv_order_make_haikou_1.starting_lat', 'dwv_order_make_haikou_1.year',\n",
      "       'dwv_order_make_haikou_1.month', 'dwv_order_make_haikou_1.day',\n",
      "       'O_location_x', 'D_location_x', 'OD_id', 'matching_prob',\n",
      "       'ride_distance', 'detour_distance', 'shared_distance', 'saved_distance',\n",
      "       'ride_distance_for_taker', 'detour_distance_for_taker',\n",
      "       'shared_distance_for_taker', 'saved_distance_for_taker',\n",
      "       'ride_distance_for_seeker', 'detour_distance_for_seeker',\n",
      "       'shared_distance_for_seeker', 'saved_distance_for_seeker',\n",
      "       'seeker_actual_ride_distance', 'taker_expect_ride_distance',\n",
      "       'driver_expect_ride_distance', 'taker_expect_ride_distance_for_taker',\n",
      "       'driver_expect_ride_distance_for_taker',\n",
      "       'taker_expect_ride_distance_for_seeker',\n",
      "       'driver_expect_ride_distance_for_seeker', 'Unnamed: 0_y', 'origin_id',\n",
      "       'destination_id', 'lambda_x', 'O_location_y', 'D_location_y', 'number',\n",
      "       'lambda_y', 'target', 'lambda'],\n",
      "      dtype='object')\n"
     ]
    }
   ],
   "source": [
    "res = pd.merge(orders, predict_result, left_on = ['O_location','D_location'], \\\n",
    "               right_on = ['origin_id','destination_id'])\n",
    "res.head()\n",
    "print(res.columns)\n",
    "res['O_location'] = res['O_location_x']\n",
    "res['D_location'] = res['D_location_x']\n",
    "res[[ 'dwv_order_make_haikou_1.order_id', 'dwv_order_make_haikou_1.departure_time', \n",
    "       'O_location', 'D_location', 'OD_id', 'matching_prob', 'ride_distance',\n",
    "       'detour_distance', 'shared_distance', 'ride_distance_for_taker',\n",
    "       'detour_distance_for_taker', 'shared_distance_for_taker',\n",
    "       'ride_distance_for_seeker', 'detour_distance_for_seeker',\n",
    "       'shared_distance_for_seeker','saved_distance_for_seeker',\n",
    "       'saved_distance_for_taker','seeker_actual_ride_distance',\n",
    "       'taker_expect_ride_distance', 'driver_expect_ride_distance',\n",
    "       'taker_expect_ride_distance_for_taker',\n",
    "       'driver_expect_ride_distance_for_taker',\n",
    "       'taker_expect_ride_distance_for_seeker',\n",
    "       'driver_expect_ride_distance_for_seeker',\n",
    "       'origin_id', 'destination_id', 'lambda']].to_csv('order.csv')"
   ]
  }
 ],
 "metadata": {
  "kernelspec": {
   "display_name": "base",
   "language": "python",
   "name": "python3"
  },
  "language_info": {
   "codemirror_mode": {
    "name": "ipython",
    "version": 3
   },
   "file_extension": ".py",
   "mimetype": "text/x-python",
   "name": "python",
   "nbconvert_exporter": "python",
   "pygments_lexer": "ipython3",
   "version": "3.9.16"
  },
  "orig_nbformat": 4
 },
 "nbformat": 4,
 "nbformat_minor": 2
}
